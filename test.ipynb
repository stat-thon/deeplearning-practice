{
 "cells": [
  {
   "cell_type": "code",
   "execution_count": 2,
   "metadata": {},
   "outputs": [
    {
     "name": "stdout",
     "output_type": "stream",
     "text": [
      "get device name : NVIDIA GeForce RTX 4070 Ti SUPER\n",
      "is available : True\n",
      "torch version : 2.3.1\n"
     ]
    }
   ],
   "source": [
    "import torch\n",
    "print(f\"get device name : {torch.cuda.get_device_name(0)}\")\n",
    "print(f\"is available : {torch.cuda.is_available()}\")\n",
    "print(f\"torch version : {torch.__version__}\")"
   ]
  }
 ],
 "metadata": {
  "kernelspec": {
   "display_name": "deeplearning",
   "language": "python",
   "name": "python3"
  },
  "language_info": {
   "codemirror_mode": {
    "name": "ipython",
    "version": 3
   },
   "file_extension": ".py",
   "mimetype": "text/x-python",
   "name": "python",
   "nbconvert_exporter": "python",
   "pygments_lexer": "ipython3",
   "version": "3.12.4"
  }
 },
 "nbformat": 4,
 "nbformat_minor": 2
}
